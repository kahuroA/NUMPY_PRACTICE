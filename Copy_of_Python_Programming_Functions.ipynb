{
  "nbformat": 4,
  "nbformat_minor": 0,
  "metadata": {
    "colab": {
      "name": "Copy of Python Programming: Functions",
      "provenance": [],
      "collapsed_sections": [
        "qbHky4L6u0GF",
        "4id48OhWr7L2",
        "51m8VyKYs_e3",
        "-yVfw__Bu4Sl",
        "ArRLPeQ0zTD7",
        "zpJ7dsVWyURZ",
        "qmwPuSsPyqff"
      ],
      "toc_visible": true,
      "include_colab_link": true
    },
    "kernelspec": {
      "name": "python3",
      "display_name": "Python 3"
    }
  },
  "cells": [
    {
      "cell_type": "markdown",
      "metadata": {
        "id": "view-in-github",
        "colab_type": "text"
      },
      "source": [
        "<a href=\"https://colab.research.google.com/github/kahuroA/NUMPY_PRACTICE/blob/main/Copy_of_Python_Programming_Functions.ipynb\" target=\"_parent\"><img src=\"https://colab.research.google.com/assets/colab-badge.svg\" alt=\"Open In Colab\"/></a>"
      ]
    },
    {
      "cell_type": "markdown",
      "metadata": {
        "id": "at-j61Sw1cxq"
      },
      "source": [
        "<font color=\"green\">*To start working on this notebook, or any other notebook that we will use in the Moringa Data Science Course, we will need to save our own copy of it. We can do this by clicking File > Save a Copy in Drive. We will then be able to make edits to our own copy of this notebook.*</font>"
      ]
    },
    {
      "cell_type": "markdown",
      "metadata": {
        "id": "ME3zPRU_ulWC"
      },
      "source": [
        "# Python Programming: Functions"
      ]
    },
    {
      "cell_type": "markdown",
      "metadata": {
        "id": "qbHky4L6u0GF"
      },
      "source": [
        "## 1.0 Overview"
      ]
    },
    {
      "cell_type": "code",
      "metadata": {
        "id": "xf2uz7Zgu26f",
        "colab": {
          "base_uri": "https://localhost:8080/"
        },
        "outputId": "06ba7ed2-1044-41af-b952-69b590c30a06"
      },
      "source": [
        "# Example 1\n",
        "# Below is an example of a function - my_function.\n",
        "#\n",
        "\n",
        "# This function is called my_function and contains only one line of code\n",
        "# tasked with printing.\n",
        "\n",
        "# We define our function as shown;\n",
        "# Def is the keyword used to define the function, my_function is the name of our function\n",
        "# and print() is the operation that the function undertakes;\n",
        "def my_function():\n",
        "    print(\"Hello, This is from my function!\")\n",
        "\n",
        "# Upon defining the function, we can then call it as shown below. Calling a function means executing a function and printing its value.\n",
        "# Please take note of the parenthesis at the end, if you omit the parenthesis then the function will not display the output.\n",
        "my_function()"
      ],
      "execution_count": 1,
      "outputs": [
        {
          "output_type": "stream",
          "text": [
            "Hello, This is from my function!\n"
          ],
          "name": "stdout"
        }
      ]
    },
    {
      "cell_type": "code",
      "metadata": {
        "id": "nhLXZF7HuiBJ",
        "colab": {
          "base_uri": "https://localhost:8080/"
        },
        "outputId": "ad595085-e066-46e6-cdc2-704275999280"
      },
      "source": [
        "# Example 2\n",
        "# Let's briefly look at built-in functions. Built-in functions are function that are already predetermined in python. \n",
        "# This means that these functions are always available for use without us having to define them.\n",
        "# Below is is an example of a built in function.\n",
        "\n",
        "# what we've done in the line below is to call the print function and passed a string Hello!. \n",
        "# We will learn more about passing to functions later in this session.\n",
        "print(\"Hello!\")\n",
        "\n",
        "# print() is the built - in function. \n",
        "# Examples of other built - in python functions include range(), str(), max(), min() etc. "
      ],
      "execution_count": 2,
      "outputs": [
        {
          "output_type": "stream",
          "text": [
            "Hello!\n"
          ],
          "name": "stdout"
        }
      ]
    },
    {
      "cell_type": "code",
      "metadata": {
        "id": "bOvvo7FLXmks"
      },
      "source": [
        "# Example 3\n",
        "# We can also use a function to perform a custom complex mathematical operation\n",
        "# just as shown in the newtons_method function. \n",
        "# Bear with us for now, you do not necessarily need to understand what the newtons method\n",
        "# which is the complex mathematical operation entails. \n",
        "# What you need to know for know isthat functions are used to perform a specific\n",
        "# set of operations then return an output as shown below. \n",
        "#\n",
        "\n",
        "\n",
        "def newtons_method(num, estimate):\n",
        "    # Computing a new_estimate\n",
        "    new_estimate = (estimate + num / estimate) / 2\n",
        "    print(new_estimate)\n",
        "    # Base Case: Comparing our estimate with built-in functions value\n",
        "    if new_estimate == math.sqrt(num):\n",
        "        return True\n",
        "    else:\n",
        "        # let's return our output.\n",
        "        return newtons_method(num, new_estimate)\n",
        "      \n",
        "# As we have noticed, we defined our fuction - newtons_method, then passed num and estimate \n",
        "# to the function. These values that we have passed are referred to as parameters. \n",
        "# Values can be passed to functions, then the functions perform a set of operations \n",
        "# and provide an output based on the given input. \n",
        "# More about parameters will be covered later in this session. "
      ],
      "execution_count": 3,
      "outputs": []
    },
    {
      "cell_type": "markdown",
      "metadata": {
        "id": "4id48OhWr7L2"
      },
      "source": [
        "## 1.1 Using Built-in Functions "
      ]
    },
    {
      "cell_type": "code",
      "metadata": {
        "id": "1Xg3vxh8sASM",
        "colab": {
          "base_uri": "https://localhost:8080/"
        },
        "outputId": "1db349d7-0ef0-48b2-8593-5d0d90038e1e"
      },
      "source": [
        "# Example 1\n",
        "# Let's now see how to work with a few built-in python functions\n",
        "# We will start learning about the max() built-in function\n",
        "# \n",
        "\n",
        "# The max() function will return the item with the highest value as shown\n",
        "# in the given arrays \n",
        "x = max([15, 20, 43, 33, 43])\n",
        "print(x)\n",
        "\n",
        "# Using the max() function, we can return the items with the highest value alphabetically\n",
        "y = max([\"Alice\", \"James\", \"Valerie\"])\n",
        "print(y)"
      ],
      "execution_count": 4,
      "outputs": [
        {
          "output_type": "stream",
          "text": [
            "43\n",
            "Valerie\n"
          ],
          "name": "stdout"
        }
      ]
    },
    {
      "cell_type": "code",
      "metadata": {
        "id": "MwsgXFvQsAMZ",
        "colab": {
          "base_uri": "https://localhost:8080/"
        },
        "outputId": "81cec9cd-025a-4c49-cf28-9440197406dc"
      },
      "source": [
        "# Example 2\n",
        "# Another built-in function that we can use is the type() function.\n",
        "# Let's use it to return the data type of the specified object. \n",
        "#\n",
        "w = 12.2\n",
        "x = 100\n",
        "y = ['Samsung', 'Sony', 'Panasonic']\n",
        "z = \"Upendo\"\n",
        "\n",
        "print(type(w))\n",
        "\n",
        "# Find out the type of x\n",
        "# OUR CODE GOES BELOW THIS LINE\n",
        "\n",
        "# Find out the type of y\n",
        "# OUR CODE GOES BELOW THIS LINE\n",
        "\n",
        "# Find out the type of z\n",
        "# OUR CODE GOES BELOW THIS LINE\n"
      ],
      "execution_count": 5,
      "outputs": [
        {
          "output_type": "stream",
          "text": [
            "<class 'float'>\n"
          ],
          "name": "stdout"
        }
      ]
    },
    {
      "cell_type": "code",
      "metadata": {
        "id": "AqJAthgIr__w",
        "colab": {
          "base_uri": "https://localhost:8080/"
        },
        "outputId": "2d11253c-8c74-40cc-c944-344f47ad5a6d"
      },
      "source": [
        "# Example 3\n",
        "# This is how we can also use the built in sum() function\n",
        "# \n",
        "\n",
        "a = [232, 323, 434, 523, 323, 232] \n",
        "print(sum(a))\n",
        "\n",
        "# As we have already mentioned, examples of other built - in python functions \n",
        "# include range(), str(), max(), min() etc. "
      ],
      "execution_count": 6,
      "outputs": [
        {
          "output_type": "stream",
          "text": [
            "2067\n"
          ],
          "name": "stdout"
        }
      ]
    },
    {
      "cell_type": "markdown",
      "metadata": {
        "id": "51m8VyKYs_e3"
      },
      "source": [
        "### <font color=\"green\">1.1 Challenges</font>"
      ]
    },
    {
      "cell_type": "code",
      "metadata": {
        "id": "VP7RNa_5tYiL",
        "colab": {
          "base_uri": "https://localhost:8080/"
        },
        "outputId": "b1867c40-961c-44f1-c1a2-1a14399049b8"
      },
      "source": [
        "# Challenge 1\n",
        "# Now that we have learnt to use some built-in functions, \n",
        "# Let's use the min() function to return the item with the lowest value below\n",
        "#\n",
        "min(a)"
      ],
      "execution_count": 7,
      "outputs": [
        {
          "output_type": "execute_result",
          "data": {
            "text/plain": [
              "232"
            ]
          },
          "metadata": {
            "tags": []
          },
          "execution_count": 7
        }
      ]
    },
    {
      "cell_type": "code",
      "metadata": {
        "id": "7OFu5O7JtZJy",
        "colab": {
          "base_uri": "https://localhost:8080/"
        },
        "outputId": "e39da2b4-61f6-434d-95be-206cec0674eb"
      },
      "source": [
        "# Challenge 2\n",
        "# Let's also round off the number 23.43 using the round() function\n",
        "#\n",
        "round(24.3)"
      ],
      "execution_count": 8,
      "outputs": [
        {
          "output_type": "execute_result",
          "data": {
            "text/plain": [
              "24"
            ]
          },
          "metadata": {
            "tags": []
          },
          "execution_count": 8
        }
      ]
    },
    {
      "cell_type": "code",
      "metadata": {
        "id": "Ogr-yc4BtZIf",
        "colab": {
          "base_uri": "https://localhost:8080/"
        },
        "outputId": "26fdee86-af31-4a5b-b0a9-ac2acfdc72d5"
      },
      "source": [
        "# Challenge 3\n",
        "# Lastly, let's give an example where the sorted() function can be used;\n",
        "# Hint: Feel free to perform some external research \n",
        "# \n",
        "sorted([4,3,1,64,12])"
      ],
      "execution_count": 9,
      "outputs": [
        {
          "output_type": "execute_result",
          "data": {
            "text/plain": [
              "[1, 3, 4, 12, 64]"
            ]
          },
          "metadata": {
            "tags": []
          },
          "execution_count": 9
        }
      ]
    },
    {
      "cell_type": "markdown",
      "metadata": {
        "id": "-yVfw__Bu4Sl"
      },
      "source": [
        "## 1.2 Creating a Function"
      ]
    },
    {
      "cell_type": "markdown",
      "metadata": {
        "id": "w4tM_RB3yPT4"
      },
      "source": [
        "We will now create functions. \n",
        "\n",
        "Below are steps that we can use to create a function: \n",
        "\n",
        "*  **Step 1**: We first declare the function with the keyword `def` followed by the function name and brackets.\n",
        "*   **Step 2**: Add the program statements to be executed.\n",
        "*   **Step 3** End the function with/without return statement.\n",
        "*  **Step 4**: We will learn more about this step later in this session. If our function takes parameters, we write the arguments inside the opening and closing parentheses of the function, and end the declaration with a colon. \n",
        "\n",
        "\n",
        "\n"
      ]
    },
    {
      "cell_type": "code",
      "metadata": {
        "id": "SkEtwBmMzb8k",
        "colab": {
          "base_uri": "https://localhost:8080/"
        },
        "outputId": "a8566388-7e00-4c51-ad9f-fd47c1f4b2ac"
      },
      "source": [
        "# Example 1\n",
        "# To start, we will create a function to find out which \n",
        "# of two numbers is greater than the other \n",
        "# \n",
        "\n",
        "# we define it by giving it the name max_of_two\n",
        "def max_of_two():\n",
        "  \n",
        "  # we then define our variables that will contain the numbers to be manipulated\n",
        "  first_number  = 10\n",
        "  second_number = 5\n",
        "  \n",
        "  # then we perform our operations i.e. in this case,\n",
        "  # if first_number is greater than second_number etc.\n",
        "  if first_number > second_number:\n",
        "    \n",
        "      # the return keyword allows us to provide back the result/output of our function\n",
        "    return first_number\n",
        "  else:\n",
        "    # the return key word allows us to provide back the result/output of our function\n",
        "    return second_number\n",
        " \n",
        "# Lastly, we do the most important step; which is to call the function that \n",
        "# we have just created above. Calling allows us to use the function. \n",
        "# We have also been calling our built-in functions from the previous section.\n",
        "#\n",
        "max_of_two()"
      ],
      "execution_count": 10,
      "outputs": [
        {
          "output_type": "execute_result",
          "data": {
            "text/plain": [
              "10"
            ]
          },
          "metadata": {
            "tags": []
          },
          "execution_count": 10
        }
      ]
    },
    {
      "cell_type": "code",
      "metadata": {
        "id": "3P8OAAcGyOP7",
        "colab": {
          "base_uri": "https://localhost:8080/"
        },
        "outputId": "bb99c8d8-cd4b-4029-e180-b869d27c5e6a"
      },
      "source": [
        "# Example 2\n",
        "# Let's now create another function to find out the square of a certain number \n",
        "# \n",
        "\n",
        "# defining our function name\n",
        "def square_of_number():\n",
        "  \n",
        "  # assigning 6 to our variable nuber \n",
        "  number = 6\n",
        "  \n",
        "\n",
        "  square_square_of_number = number ** 2\n",
        "  \n",
        "  # the return keyword allows us to provide back the result/output of our function\n",
        "  return square_square_of_number\n",
        "\n",
        "# now calling our function\n",
        "square_of_number()"
      ],
      "execution_count": 11,
      "outputs": [
        {
          "output_type": "execute_result",
          "data": {
            "text/plain": [
              "36"
            ]
          },
          "metadata": {
            "tags": []
          },
          "execution_count": 11
        }
      ]
    },
    {
      "cell_type": "code",
      "metadata": {
        "id": "QZFwx1lgyOhh",
        "colab": {
          "base_uri": "https://localhost:8080/"
        },
        "outputId": "7ff567a4-3de5-40d0-9866-eba67dde8fca"
      },
      "source": [
        "# Example 3\n",
        "# Lastly, we create another function to sum all the numbers in a list a = [6, 5, 4, 3, 2, 1]\n",
        "# \n",
        "\n",
        "def sum():\n",
        "  a = [6, 5, 4, 3, 2, 1]\n",
        "  total = 0\n",
        "  \n",
        "    # performing our operation by using a for loop to iterate through our list\n",
        "  for x in a:\n",
        "    \n",
        "    # for each iteration we perform total = total + 1;  which can be simply be written as shown below\n",
        "    total += x\n",
        "    \n",
        "  # Then lastly return our output which is to print out the value of the total variable \n",
        "  return print(total)\n",
        "\n",
        "# Lastly we call the function in order to use it\n",
        "sum()"
      ],
      "execution_count": 12,
      "outputs": [
        {
          "output_type": "stream",
          "text": [
            "21\n"
          ],
          "name": "stdout"
        }
      ]
    },
    {
      "cell_type": "markdown",
      "metadata": {
        "id": "ArRLPeQ0zTD7"
      },
      "source": [
        "### <font color=\"green\">1.2 Challenges</font>"
      ]
    },
    {
      "cell_type": "code",
      "metadata": {
        "id": "NQ87DKM9zaMG"
      },
      "source": [
        "# Challenge 1\n",
        "# Now that we have seen how to create functions, \n",
        "# let's create one that returns the maximum of two numbers;\n",
        "#\n",
        "def max_num():\n",
        "  s=5\n",
        "  v=12\n",
        "  return max(s,v)"
      ],
      "execution_count": 13,
      "outputs": []
    },
    {
      "cell_type": "code",
      "metadata": {
        "id": "zFnXOKg5zaBc",
        "colab": {
          "base_uri": "https://localhost:8080/"
        },
        "outputId": "3ba48263-8869-440f-f925-627019644820"
      },
      "source": [
        "# Challenge 2\n",
        "# Let's write another function that tell us whether if a variable is between 3 and 10\n",
        "#\n",
        "def between(a):\n",
        "  if a>=3 and a<=10:\n",
        "    return print(\"{} is between 3 and and 10\".format(a))\n",
        "  else:\n",
        "    return print(\"{} is not between 3 and 10\".format(a))\n",
        "\n",
        "between(8)"
      ],
      "execution_count": 14,
      "outputs": [
        {
          "output_type": "stream",
          "text": [
            "8 is between 3 and and 10\n"
          ],
          "name": "stdout"
        }
      ]
    },
    {
      "cell_type": "code",
      "metadata": {
        "id": "6SvU7V_LzZuK",
        "colab": {
          "base_uri": "https://localhost:8080/"
        },
        "outputId": "ea0b7dbc-fd99-4c5c-d771-b6b0758eca18"
      },
      "source": [
        "# Challenge 3\n",
        "# Lastly, an online retailer provides express shipping for many of its items at a rate of Ksh 200 for the first item, and Ksh. 25 for each subsequent item. \n",
        "# Write a function that takes the number of items in the order from the user. \n",
        "# Return the shipping charge for the order as the function’s result. \n",
        "#\n",
        "order_item= input(\"Enter the order:\")\n",
        "order_list=[]\n",
        "while order_item!=\"\":\n",
        "  order_list.append(order_item)\n",
        "  order_item=input(\"Enter order or hit enter to finish\")\n",
        "def ship_charge():\n",
        "  if len(order_list)==0:\n",
        "    return print(\"You did not order anything\")\n",
        "  else:\n",
        "    total=200+ 25*(len(order_list)-1)\n",
        "  return total\n",
        "ship_charge()"
      ],
      "execution_count": 30,
      "outputs": [
        {
          "output_type": "stream",
          "text": [
            "Enter the order:w\n",
            "Enter order or hit enter to finishw\n",
            "Enter order or hit enter to finishw\n",
            "Enter order or hit enter to finish\n"
          ],
          "name": "stdout"
        },
        {
          "output_type": "execute_result",
          "data": {
            "text/plain": [
              "250"
            ]
          },
          "metadata": {
            "tags": []
          },
          "execution_count": 30
        }
      ]
    },
    {
      "cell_type": "markdown",
      "metadata": {
        "id": "zpJ7dsVWyURZ"
      },
      "source": [
        "## 1.3 Passing Parameters and Returning Values"
      ]
    },
    {
      "cell_type": "code",
      "metadata": {
        "id": "oGbSQfdDyy91",
        "colab": {
          "base_uri": "https://localhost:8080/"
        },
        "outputId": "e4a7c93a-5582-4593-f265-a03c6d9f601e"
      },
      "source": [
        "# Example 1\n",
        "# Parameters are variables that give to a function. The function later use the values \n",
        "# of those parameters which we call arguments to perform operations then return an output.\n",
        "# The ability for functions to take in parameter is important because it allows \n",
        "# for code re-use in different contexts. \n",
        "# To see this, let's create a function that finds the average of two numbers a and b.\n",
        "# These numbers a and b are referred to as parameters and their values are referred to arguements.\n",
        "# The parameters will be provided to the function and the function will \n",
        "# perform the average and return the result of these operations as show.\n",
        "# \n",
        "\n",
        "# Defining our function\n",
        "def avg(a,b):\n",
        "  \n",
        "  # Performing the operation\n",
        "  two_numbers_avg = (a + b)/2\n",
        "  \n",
        "  # Returning the result of our function\n",
        "  return print(two_numbers_avg) \n",
        "\n",
        "# Calling our function with arguments\n",
        "avg(2,4)"
      ],
      "execution_count": 27,
      "outputs": [
        {
          "output_type": "stream",
          "text": [
            "3.0\n"
          ],
          "name": "stdout"
        }
      ]
    },
    {
      "cell_type": "code",
      "metadata": {
        "id": "eAMUefKlyzA1",
        "colab": {
          "base_uri": "https://localhost:8080/"
        },
        "outputId": "8ed89d03-de6f-4f2d-ba22-aace261681a3"
      },
      "source": [
        "# Example 2\n",
        "# Let's create another function that takes in the name and age of a person\n",
        "# then prints out their name \n",
        "# \n",
        "\n",
        "def lastFirst(firstName, lastName):\n",
        "    separator = ', '\n",
        "    result = lastName + separator + firstName\n",
        "    return print(result)\n",
        " \n",
        "lastFirst('Tomanzi', 'Chitanda')"
      ],
      "execution_count": 28,
      "outputs": [
        {
          "output_type": "stream",
          "text": [
            "Chitanda, Tomanzi\n"
          ],
          "name": "stdout"
        }
      ]
    },
    {
      "cell_type": "code",
      "metadata": {
        "id": "YxUu-a7AzzcP",
        "colab": {
          "base_uri": "https://localhost:8080/"
        },
        "outputId": "ee8d6bba-54d3-46e5-b165-3d3bd4576ad1"
      },
      "source": [
        "# Example 3\n",
        "# Let's create another function that calculates the area of a cirlce when\n",
        "# the value radius is passed to the function\n",
        "# \n",
        "\n",
        "def circleArea(radius):\n",
        "    area = 3.14 * radius * radius \n",
        "    return print(area)\n",
        "  \n",
        "# Calling our function and passing an argumement\n",
        "circleArea(4)"
      ],
      "execution_count": 29,
      "outputs": [
        {
          "output_type": "stream",
          "text": [
            "50.24\n"
          ],
          "name": "stdout"
        }
      ]
    },
    {
      "cell_type": "markdown",
      "metadata": {
        "id": "qmwPuSsPyqff"
      },
      "source": [
        "### <font color=\"green\">1.3 Challenges</font>"
      ]
    },
    {
      "cell_type": "code",
      "metadata": {
        "id": "8pa4b5Jcz1kf",
        "colab": {
          "base_uri": "https://localhost:8080/"
        },
        "outputId": "6d6ebd65-19c1-447b-8a9a-407c05b1350e"
      },
      "source": [
        "# Challenge 1\n",
        "# Write a function that determines how many days there are in a particular month. \n",
        "# Your function will have two parameters: The month as an integer between 1 and 12, \n",
        "# and the year as a four digit integer. \n",
        "# Ensure that your function reports the correct number of days in February for leap years.\n",
        "# \n",
        "def month_days(month, year):\n",
        "    if month>12 or len(str(year))!=4:\n",
        "        return print(\"invalid input\")\n",
        "    thirty=[4,6,9,11]\n",
        "    if month in thirty:\n",
        "        return print(\"month has 30 days\")\n",
        "    elif month==2 and year%4==0:\n",
        "        return print(\"month has 29 days\")\n",
        "    elif month==2 and year%4!=0:\n",
        "        return print(\"month has 28 days\")\n",
        "    else:\n",
        "        return print(\"month has 31 days\")\n",
        "month_days(4,1993)"
      ],
      "execution_count": 1,
      "outputs": [
        {
          "output_type": "stream",
          "text": [
            "month has 30 days\n"
          ],
          "name": "stdout"
        }
      ]
    },
    {
      "cell_type": "code",
      "metadata": {
        "id": "uyz_9HC9y4XT",
        "colab": {
          "base_uri": "https://localhost:8080/"
        },
        "outputId": "f5b5497a-0e44-4475-b5e0-15a5e6604206"
      },
      "source": [
        "# Challenge 2\n",
        "# In a particular company, taxi fares consist of a base fare of Ksh.200, \n",
        "# plus Ksh.25 for every 140 meters traveled. \n",
        "# Write a function that takes the distance traveled (in kilometers) \n",
        "# as its only parameter and returns the total fare as its only result.\n",
        "#\n",
        "def fare(kms):\n",
        "  in_meters=kms*1000\n",
        "  extra=in_meters//140\n",
        "  total=200+ (25*extra)\n",
        "  return print(total)\n",
        "\n",
        "fare(4)"
      ],
      "execution_count": 3,
      "outputs": [
        {
          "output_type": "stream",
          "text": [
            "900\n"
          ],
          "name": "stdout"
        }
      ]
    },
    {
      "cell_type": "code",
      "metadata": {
        "id": "a93DEIfI1Xkc",
        "colab": {
          "base_uri": "https://localhost:8080/"
        },
        "outputId": "f940217e-e231-49b1-ebcd-03d024fb8b40"
      },
      "source": [
        "# Challenge 3\n",
        "# A particular cell phone plan includes 20 minutes of air time and 20 text messages \n",
        "# for Ksh. 50.00 a month. Each additional minute of air time costs Ksh. 3.00, \n",
        "# while additional text messages cost Ksh. 2.00 each. \n",
        "# The entire bill (including the 999 charge) is subject to 16 percent VAT tax.\n",
        "# Write a program that reads the number of minutes and text messages used in a month from the user. \n",
        "# Display the base charge, additional minutes charge (if any), \n",
        "# additional text message charge (if any), tax and total bill amount. \n",
        "# Only display the additional minute and text message charges if the user incurred costs in these categories. \n",
        "# Ensure that all of the charges are displayed using 2 decimal places.\n",
        "#\n",
        "def phone_bill(minutes, texts):\n",
        "  base_charge=50\n",
        "  add_charge_1=0\n",
        "  add_charge_2=0\n",
        "  print(\"base charge= {:.2f}\".format(float(base_charge)))\n",
        "  if minutes>20 or texts>20:\n",
        "    add_charge_1=(minutes-20)*3.00\n",
        "    print(\"additional minutes cost={:.2f}\".format(float(add_charge_1)))\n",
        "    add_charge_2=(texts-20)*2.00\n",
        "    print(\"additional text cost={:.2f}\".format(float(add_charge_2)))\n",
        "  tax=0.16*(base_charge+add_charge_1+add_charge_2)\n",
        "  print(\"Tax amount={:.2f}\".format(float(tax)))\n",
        "  print(\"Total cost is= {:.2f}\".format(float(base_charge+add_charge_1+add_charge_2+tax)))\n",
        "phone_bill(28,50)"
      ],
      "execution_count": 7,
      "outputs": [
        {
          "output_type": "stream",
          "text": [
            "base charge= 50.00\n",
            "additional minutes cost=24.00\n",
            "additional text cost=60.00\n",
            "Tax amount=21.44\n",
            "Total cost is= 155.44\n"
          ],
          "name": "stdout"
        }
      ]
    }
  ]
}