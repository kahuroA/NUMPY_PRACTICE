{
  "nbformat": 4,
  "nbformat_minor": 0,
  "metadata": {
    "colab": {
      "name": "Copy of Python Programming - Numpy Basics",
      "provenance": [],
      "collapsed_sections": [
        "BqyScgzc410j",
        "3w2o-QzS60AR",
        "lpP7qc835YZX",
        "vtbzfkVu7A_i",
        "7HM2oS-c6Fyz",
        "FXNTaawR7Lly",
        "5mWusWpH6eff",
        "RMVtc9Bs7bb6"
      ],
      "toc_visible": true,
      "include_colab_link": true
    },
    "kernelspec": {
      "display_name": "Python 3",
      "name": "python3"
    }
  },
  "cells": [
    {
      "cell_type": "markdown",
      "metadata": {
        "id": "view-in-github",
        "colab_type": "text"
      },
      "source": [
        "<a href=\"https://colab.research.google.com/github/kahuroA/NUMPY_PRACTICE/blob/main/Copy_of_Python_Programming_Numpy_Basics.ipynb\" target=\"_parent\"><img src=\"https://colab.research.google.com/assets/colab-badge.svg\" alt=\"Open In Colab\"/></a>"
      ]
    },
    {
      "cell_type": "markdown",
      "metadata": {
        "id": "c_BBfbCEZfDT"
      },
      "source": [
        "<font color=\"green\">*To start working on this notebook, or any other notebook that we will use in the Moringa Data Science Course, we will need to save our own copy of it. We can do this by clicking File > Save a Copy in Drive. We will then be able to make edits to our own copy of this notebook.*</font>"
      ]
    },
    {
      "cell_type": "markdown",
      "metadata": {
        "id": "dZSJZP9809aH"
      },
      "source": [
        "# Python Programming - Numpy Basics"
      ]
    },
    {
      "cell_type": "markdown",
      "metadata": {
        "id": "jZatZRIbkDz7"
      },
      "source": [
        "## 1.0 Importing our Library"
      ]
    },
    {
      "cell_type": "code",
      "metadata": {
        "id": "HZ5j-AjX6ae-"
      },
      "source": [
        "# We will first import the numpy library, so that we can leverage external functionalities \n",
        "# that do not come with python\n",
        "# \n",
        "import numpy as np"
      ],
      "execution_count": 1,
      "outputs": []
    },
    {
      "cell_type": "markdown",
      "metadata": {
        "id": "c2bpaw2E1Afv"
      },
      "source": [
        "## 1.1 Creating Arrays"
      ]
    },
    {
      "cell_type": "code",
      "metadata": {
        "colab": {
          "base_uri": "https://localhost:8080/"
        },
        "id": "ToZ19MKQ06NI",
        "outputId": "318a2838-ee5a-4511-ebe6-f18028dae439"
      },
      "source": [
        "# Example 1\n",
        "# Numpy arrays are a type of data structures that hold some benefits over \n",
        "# Python lists such as being more compact, faster access in reading \n",
        "# and writing items. To get started, we can create a 1 dimension (1D) Array \n",
        "# using a Python List as shown below.\n",
        "#\n",
        "my_list = [0, 1, 2, 3, 4]\n",
        "npy_my_list = np.array(my_list)\n",
        "\n",
        "print(npy_my_list)"
      ],
      "execution_count": 2,
      "outputs": [
        {
          "output_type": "stream",
          "text": [
            "[0 1 2 3 4]\n"
          ],
          "name": "stdout"
        }
      ]
    },
    {
      "cell_type": "code",
      "metadata": {
        "colab": {
          "base_uri": "https://localhost:8080/"
        },
        "id": "HsJH20DrszcQ",
        "outputId": "cb61e1ad-1bf3-4ffd-e575-7d2f4d0c6547"
      },
      "source": [
        "npy_my_list.shape"
      ],
      "execution_count": 3,
      "outputs": [
        {
          "output_type": "execute_result",
          "data": {
            "text/plain": [
              "(5,)"
            ]
          },
          "metadata": {
            "tags": []
          },
          "execution_count": 3
        }
      ]
    },
    {
      "cell_type": "code",
      "metadata": {
        "colab": {
          "base_uri": "https://localhost:8080/"
        },
        "id": "QfwikEjh3-Az",
        "outputId": "14dfafa7-87ff-4c8a-a911-d9c5663c4e85"
      },
      "source": [
        "# Example 2\n",
        "# We can also create 1D arrays of zeros and 2D arrays of ones \n",
        "# from Numpy builtin functions by;\n",
        "#\n",
        "zeros_arr = np.zeros(5)\n",
        "ones_arr = np.ones([3, 4])\n",
        "\n",
        "print(zeros_arr)\n",
        "print(ones_arr)"
      ],
      "execution_count": 4,
      "outputs": [
        {
          "output_type": "stream",
          "text": [
            "[0. 0. 0. 0. 0.]\n",
            "[[1. 1. 1. 1.]\n",
            " [1. 1. 1. 1.]\n",
            " [1. 1. 1. 1.]]\n"
          ],
          "name": "stdout"
        }
      ]
    },
    {
      "cell_type": "code",
      "metadata": {
        "colab": {
          "base_uri": "https://localhost:8080/"
        },
        "id": "HNCFd0Tr3_Gy",
        "outputId": "66d929b8-065e-4caf-aab2-70d73bb58cd5"
      },
      "source": [
        "# Example 3\n",
        "# Creating an Array with 3 random values  \n",
        "# \n",
        "rand_arr = np.random.rand(3)\n",
        "\n",
        "print(rand_arr)"
      ],
      "execution_count": 6,
      "outputs": [
        {
          "output_type": "stream",
          "text": [
            "[0.3433303  0.58043592 0.46393886]\n"
          ],
          "name": "stdout"
        }
      ]
    },
    {
      "cell_type": "code",
      "metadata": {
        "colab": {
          "base_uri": "https://localhost:8080/"
        },
        "id": "JmPLdMUBBuMD",
        "outputId": "f52c9061-f7fe-40c3-e250-db018cdf37c6"
      },
      "source": [
        "# Example 4\n",
        "# Creating an array with evenly spaced values within a given interval \n",
        "# as shown using the Numpy arrange function\n",
        "# \n",
        "even_arr = np.arange(0,6,2)\n",
        "\n",
        "print(even_arr)"
      ],
      "execution_count": 7,
      "outputs": [
        {
          "output_type": "stream",
          "text": [
            "[0 2 4]\n"
          ],
          "name": "stdout"
        }
      ]
    },
    {
      "cell_type": "code",
      "metadata": {
        "colab": {
          "base_uri": "https://localhost:8080/"
        },
        "id": "ayLolFnVebvC",
        "outputId": "1f2dac9e-7d41-4a21-8087-a5da78e84df4"
      },
      "source": [
        "# Example 5\n",
        "# Create a 5 x 5 matix with elements from 1 to 25\n",
        "#\n",
        "five_matrix = np.arange(1,26).reshape(5,5)\n",
        "\n",
        "print(five_matrix)"
      ],
      "execution_count": 8,
      "outputs": [
        {
          "output_type": "stream",
          "text": [
            "[[ 1  2  3  4  5]\n",
            " [ 6  7  8  9 10]\n",
            " [11 12 13 14 15]\n",
            " [16 17 18 19 20]\n",
            " [21 22 23 24 25]]\n"
          ],
          "name": "stdout"
        }
      ]
    },
    {
      "cell_type": "markdown",
      "metadata": {
        "id": "qcP0FkJq6q-r"
      },
      "source": [
        "### <font color=\"green\">1.1 Challenges"
      ]
    },
    {
      "cell_type": "code",
      "metadata": {
        "colab": {
          "base_uri": "https://localhost:8080/"
        },
        "id": "MBV-dKC_6tZx",
        "outputId": "e52639a9-fad6-4a0a-a8a6-8fbae0f3ee56"
      },
      "source": [
        "# Challenge 1\n",
        "# Create a 2D array matix using the list matr = my_mat = [[0,1,2],[3,4,5]]\n",
        "# Hint: Learn from Example 2\n",
        "# \n",
        "my_mat=[[0,1,2],[3,4,5]]\n",
        "my_mat_array=np.array(my_mat)\n",
        "print(my_mat_array)"
      ],
      "execution_count": 9,
      "outputs": [
        {
          "output_type": "stream",
          "text": [
            "[[0 1 2]\n",
            " [3 4 5]]\n"
          ],
          "name": "stdout"
        }
      ]
    },
    {
      "cell_type": "code",
      "metadata": {
        "colab": {
          "base_uri": "https://localhost:8080/"
        },
        "id": "aquNQ1XH6vGL",
        "outputId": "acb21aef-31ed-4913-c12a-137bd881200f"
      },
      "source": [
        "# Challenge 2\n",
        "# Create a 2D array of zeros \n",
        "# Hint: Learn from Example 2\n",
        "#\n",
        "np.zeros([3,3])"
      ],
      "execution_count": 10,
      "outputs": [
        {
          "output_type": "execute_result",
          "data": {
            "text/plain": [
              "array([[0., 0., 0.],\n",
              "       [0., 0., 0.],\n",
              "       [0., 0., 0.]])"
            ]
          },
          "metadata": {
            "tags": []
          },
          "execution_count": 10
        }
      ]
    },
    {
      "cell_type": "code",
      "metadata": {
        "colab": {
          "base_uri": "https://localhost:8080/"
        },
        "id": "tslhBNMQ6wU-",
        "outputId": "35d95a29-81de-43c8-ebbb-3f201d936c97"
      },
      "source": [
        "# Challenge 3\n",
        "# Create a 2D array of random values\n",
        "# Hint: Learn from Example 2\n",
        "#\n",
        "np.random.rand(3,4)"
      ],
      "execution_count": 14,
      "outputs": [
        {
          "output_type": "execute_result",
          "data": {
            "text/plain": [
              "array([[0.18587233, 0.5478033 , 0.14536281, 0.06123072],\n",
              "       [0.4524649 , 0.73324048, 0.37223312, 0.61777701],\n",
              "       [0.10773569, 0.70607248, 0.83535088, 0.4671452 ]])"
            ]
          },
          "metadata": {
            "tags": []
          },
          "execution_count": 14
        }
      ]
    },
    {
      "cell_type": "code",
      "metadata": {
        "colab": {
          "base_uri": "https://localhost:8080/"
        },
        "id": "ukWLHCL0CJx1",
        "outputId": "a20371a5-2acd-4d43-92ed-0c1b4568d571"
      },
      "source": [
        "# Challenge 4\n",
        "# Create a 3D array with values starting 6, stops at 40 with interval of 2\n",
        "#\n",
        "np.arange(6,41,2).reshape(3,3,2)"
      ],
      "execution_count": 15,
      "outputs": [
        {
          "output_type": "execute_result",
          "data": {
            "text/plain": [
              "array([[[ 6,  8],\n",
              "        [10, 12],\n",
              "        [14, 16]],\n",
              "\n",
              "       [[18, 20],\n",
              "        [22, 24],\n",
              "        [26, 28]],\n",
              "\n",
              "       [[30, 32],\n",
              "        [34, 36],\n",
              "        [38, 40]]])"
            ]
          },
          "metadata": {
            "tags": []
          },
          "execution_count": 15
        }
      ]
    },
    {
      "cell_type": "markdown",
      "metadata": {
        "id": "BqyScgzc410j"
      },
      "source": [
        "## 1.2 Attributes and Functions"
      ]
    },
    {
      "cell_type": "code",
      "metadata": {
        "colab": {
          "base_uri": "https://localhost:8080/"
        },
        "id": "eLjMuBef93ZF",
        "outputId": "e1e049a2-0037-407c-fc03-afe95f90814d"
      },
      "source": [
        "# We use attributes to access information about a particular array,\n",
        "# while functions to perform a certain operations to the array. \n",
        "# We will learn about attributes and functions in this section of the session.\n",
        "# First let's generate a 1D array to work with; we will name \n",
        "# this attribute attribute_arr as shown below;\n",
        "# \n",
        "attribute_arr = np.random.rand(5)\n",
        "\n",
        "print(attribute_arr)"
      ],
      "execution_count": 16,
      "outputs": [
        {
          "output_type": "stream",
          "text": [
            "[0.00519772 0.33849095 0.19057092 0.82325029 0.25790409]\n"
          ],
          "name": "stdout"
        }
      ]
    },
    {
      "cell_type": "code",
      "metadata": {
        "colab": {
          "base_uri": "https://localhost:8080/"
        },
        "id": "LQ8aYHM-45r6",
        "outputId": "8af7f86f-fa49-4e94-fe59-3d49493d644c"
      },
      "source": [
        "# Example 1\n",
        "# Using the max() function\n",
        "# \n",
        "attribute_arr.max()"
      ],
      "execution_count": 17,
      "outputs": [
        {
          "output_type": "execute_result",
          "data": {
            "text/plain": [
              "0.8232502925780518"
            ]
          },
          "metadata": {
            "tags": []
          },
          "execution_count": 17
        }
      ]
    },
    {
      "cell_type": "code",
      "metadata": {
        "colab": {
          "base_uri": "https://localhost:8080/"
        },
        "id": "WMYeiSXA46iR",
        "outputId": "cc030cc6-ea28-4ded-eaff-e55d5fddc38a"
      },
      "source": [
        "# Example 2\n",
        "# Using the min() function \n",
        "# \n",
        "attribute_arr.min()"
      ],
      "execution_count": 18,
      "outputs": [
        {
          "output_type": "execute_result",
          "data": {
            "text/plain": [
              "0.0051977156670353075"
            ]
          },
          "metadata": {
            "tags": []
          },
          "execution_count": 18
        }
      ]
    },
    {
      "cell_type": "code",
      "metadata": {
        "colab": {
          "base_uri": "https://localhost:8080/"
        },
        "id": "EopHxyUU46Y6",
        "outputId": "30baa376-bc81-4ef3-9d74-976c0c5dbb26"
      },
      "source": [
        "# Example 3\n",
        "# Using the argmax() function to return the indice of the max element of the array \n",
        "#\n",
        "attribute_arr.argmax()"
      ],
      "execution_count": 19,
      "outputs": [
        {
          "output_type": "execute_result",
          "data": {
            "text/plain": [
              "3"
            ]
          },
          "metadata": {
            "tags": []
          },
          "execution_count": 19
        }
      ]
    },
    {
      "cell_type": "code",
      "metadata": {
        "colab": {
          "base_uri": "https://localhost:8080/"
        },
        "id": "n5K9YACf5L_z",
        "outputId": "9889d87b-5bf7-45a6-df4b-60faaf3cc909"
      },
      "source": [
        "# Example 4\n",
        "# Using the argmin() function to return the indice of the min element of the array\n",
        "#\n",
        "attribute_arr.argmin()"
      ],
      "execution_count": 20,
      "outputs": [
        {
          "output_type": "execute_result",
          "data": {
            "text/plain": [
              "0"
            ]
          },
          "metadata": {
            "tags": []
          },
          "execution_count": 20
        }
      ]
    },
    {
      "cell_type": "code",
      "metadata": {
        "colab": {
          "base_uri": "https://localhost:8080/"
        },
        "id": "Sfb8LcQR5R7x",
        "outputId": "68423871-931d-45ce-940e-d377b2391287"
      },
      "source": [
        "# Example 5\n",
        "# Using the shape attribute to find the size of the array\n",
        "#\n",
        "attribute_arr.shape"
      ],
      "execution_count": 21,
      "outputs": [
        {
          "output_type": "execute_result",
          "data": {
            "text/plain": [
              "(5,)"
            ]
          },
          "metadata": {
            "tags": []
          },
          "execution_count": 21
        }
      ]
    },
    {
      "cell_type": "markdown",
      "metadata": {
        "id": "3w2o-QzS60AR"
      },
      "source": [
        "### <font color=\"green\">1.2. Challenges</font>"
      ]
    },
    {
      "cell_type": "code",
      "metadata": {
        "id": "VKNneHD4-4BY"
      },
      "source": [
        "# First generate a 2D array to work with\n",
        "work=np.random.rand(8).reshape(2,4)\n"
      ],
      "execution_count": 22,
      "outputs": []
    },
    {
      "cell_type": "code",
      "metadata": {
        "colab": {
          "base_uri": "https://localhost:8080/"
        },
        "id": "ygUyasmp62jO",
        "outputId": "cb27a225-02b6-4bf8-a6f5-c00df00718e8"
      },
      "source": [
        "# Challenge 1\n",
        "# Then we will find the minimum value of the 2D array\n",
        "#\n",
        "work.min()"
      ],
      "execution_count": 23,
      "outputs": [
        {
          "output_type": "execute_result",
          "data": {
            "text/plain": [
              "0.06221585654168982"
            ]
          },
          "metadata": {
            "tags": []
          },
          "execution_count": 23
        }
      ]
    },
    {
      "cell_type": "code",
      "metadata": {
        "colab": {
          "base_uri": "https://localhost:8080/"
        },
        "id": "Vi6G0azm637R",
        "outputId": "85748715-bdd9-4e73-99f3-11f8171347ed"
      },
      "source": [
        "# Challenge 2\n",
        "# We will find the maximum value of the 2D array\n",
        "#\n",
        "work.max()"
      ],
      "execution_count": 24,
      "outputs": [
        {
          "output_type": "execute_result",
          "data": {
            "text/plain": [
              "0.7474809443229754"
            ]
          },
          "metadata": {
            "tags": []
          },
          "execution_count": 24
        }
      ]
    },
    {
      "cell_type": "code",
      "metadata": {
        "colab": {
          "base_uri": "https://localhost:8080/"
        },
        "id": "84WVD6TA65Bm",
        "outputId": "f854ca56-a21e-4e89-d03a-a982b10506a7"
      },
      "source": [
        "# Challenge 3\n",
        "# Then return the indice of the maximun element of the 2D array \n",
        "# \n",
        "work.argmax()"
      ],
      "execution_count": 25,
      "outputs": [
        {
          "output_type": "execute_result",
          "data": {
            "text/plain": [
              "5"
            ]
          },
          "metadata": {
            "tags": []
          },
          "execution_count": 25
        }
      ]
    },
    {
      "cell_type": "code",
      "metadata": {
        "colab": {
          "base_uri": "https://localhost:8080/"
        },
        "id": "kpaSbWQt66Fz",
        "outputId": "5046fd6a-9fde-4fc1-97d0-c2ed4c772163"
      },
      "source": [
        "# Challenge 4\n",
        "# Again return the indice of the minimum element of the 2D array\n",
        "# \n",
        "work.argmin()"
      ],
      "execution_count": 26,
      "outputs": [
        {
          "output_type": "execute_result",
          "data": {
            "text/plain": [
              "6"
            ]
          },
          "metadata": {
            "tags": []
          },
          "execution_count": 26
        }
      ]
    },
    {
      "cell_type": "code",
      "metadata": {
        "colab": {
          "base_uri": "https://localhost:8080/"
        },
        "id": "0Snj7gJo67OU",
        "outputId": "9f461d39-428d-4f16-dd47-13cdeb02d617"
      },
      "source": [
        "# Challenge 5\n",
        "# Lastly, return the data type of the generated 2D array using dtype\n",
        "# \n",
        "work.dtype"
      ],
      "execution_count": 27,
      "outputs": [
        {
          "output_type": "execute_result",
          "data": {
            "text/plain": [
              "dtype('float64')"
            ]
          },
          "metadata": {
            "tags": []
          },
          "execution_count": 27
        }
      ]
    },
    {
      "cell_type": "markdown",
      "metadata": {
        "id": "lpP7qc835YZX"
      },
      "source": [
        "## 1.3  Indexing  and Broadcasting"
      ]
    },
    {
      "cell_type": "code",
      "metadata": {
        "colab": {
          "base_uri": "https://localhost:8080/"
        },
        "id": "bd0imU6GKHfs",
        "outputId": "dabeefb5-1f14-4f2d-c391-e3e09cbae982"
      },
      "source": [
        "# Creating an array to work with. The array will be comprised of even numbers from 0 t0 15\n",
        "in_array = np.arange(0,15,2)\n",
        "\n",
        "print(in_array)"
      ],
      "execution_count": 28,
      "outputs": [
        {
          "output_type": "stream",
          "text": [
            "[ 0  2  4  6  8 10 12 14]\n"
          ],
          "name": "stdout"
        }
      ]
    },
    {
      "cell_type": "code",
      "metadata": {
        "colab": {
          "base_uri": "https://localhost:8080/"
        },
        "id": "e_yW1XvJ5dxC",
        "outputId": "965875c4-df17-4dac-94d1-5269b6283522"
      },
      "source": [
        "# Example 1\n",
        "# Bracketing indexing allows us to access\n",
        "# elements from a Numpy array as shown\n",
        "# \n",
        "print(in_array[2]) # Displays the third element in the list\n",
        "print(in_array[1:5]) # Displays values from the second element to the fifth element\n",
        "print(in_array[3:]) # Displays the 4th element to the last element in the list"
      ],
      "execution_count": 29,
      "outputs": [
        {
          "output_type": "stream",
          "text": [
            "4\n",
            "[2 4 6 8]\n",
            "[ 6  8 10 12 14]\n"
          ],
          "name": "stdout"
        }
      ]
    },
    {
      "cell_type": "code",
      "metadata": {
        "colab": {
          "base_uri": "https://localhost:8080/"
        },
        "id": "NzNROPLy5vg3",
        "outputId": "db05749f-7622-4079-8313-74a1c8462c98"
      },
      "source": [
        "# Example 2\n",
        "# Arrays with different sizes cannot be added, subtracted or used in any arithmetic.\n",
        "# one way of solving this is to duplicate the smaller array so that its size is the same as the larger array.\n",
        "# This process is called broadasting and is available in numpy. \n",
        "\n",
        "# Broadcasting is Numpy's terminology for performing mathematical operations \n",
        "# between arrays with different shapes. This example provides insights on \n",
        "# broadcasting. First, lets run this cell then later uncomment each block trying\n",
        "# to understand what happens. \n",
        "# Once you're done with the final block, you can get a detailed explanation \n",
        "# on broadcasting here: http://bit.ly/NumpyBroadcasting\n",
        "# \n",
        "in_array[0:2] = 100\n",
        "print(in_array)\n",
        "\n",
        "# First reseting our array i.e. recreating it\n",
        "in_array = np.arange(0,11)\n",
        "print(in_array)\n",
        "\n",
        "# Then making a copy \n",
        "in_array_copy = in_array.copy()\n",
        "print(in_array_copy)\n",
        "\n",
        "# Afterwards creating a new array upon slicing\n",
        "slice_of_arr = in_array[0:5]\n",
        "print(slice_of_arr)\n",
        "\n",
        "# Changing the Slice\n",
        "slice_of_arr[:]=22\n",
        "print(slice_of_arr)\n",
        "\n",
        "# NB: Changes also occur in our original array\n",
        "print(in_array)\n",
        "\n",
        "# check your copy\n",
        "print(in_array_copy)"
      ],
      "execution_count": 36,
      "outputs": [
        {
          "output_type": "stream",
          "text": [
            "[100 100  22  22  22   5   6   7   8   9  10]\n",
            "[ 0  1  2  3  4  5  6  7  8  9 10]\n",
            "[ 0  1  2  3  4  5  6  7  8  9 10]\n",
            "[0 1 2 3 4]\n",
            "[22 22 22 22 22]\n",
            "[22 22 22 22 22  5  6  7  8  9 10]\n",
            "[ 0  1  2  3  4  5  6  7  8  9 10]\n"
          ],
          "name": "stdout"
        }
      ]
    },
    {
      "cell_type": "code",
      "metadata": {
        "id": "juXc8Yem584S",
        "colab": {
          "base_uri": "https://localhost:8080/"
        },
        "outputId": "f33cb16b-a998-43ef-9d95-2d5089283663"
      },
      "source": [
        "# Example 3\n",
        "# Indexing a 2D array (matrices)\n",
        "# \n",
        "\n",
        "ind_arr_2d = np.array(([21, 22, 23], [11, 22, 33], [43, 77, 89]))\n",
        "print(ind_arr_2d)\n",
        "\n",
        "# Selecting element at row index 1 & column index 2\n",
        "#\n",
        "print(ind_arr_2d[1][2])\n",
        "\n",
        "# Selecting a Row at index 1\n",
        "#\n",
        "row = ind_arr_2d[1]\n",
        "print(row)\n",
        "\n",
        "# Selecting a column at index 1 \n",
        "# \n",
        "column = ind_arr_2d[:, 1]\n",
        "print(column)"
      ],
      "execution_count": 37,
      "outputs": [
        {
          "output_type": "stream",
          "text": [
            "[[21 22 23]\n",
            " [11 22 33]\n",
            " [43 77 89]]\n",
            "33\n",
            "[11 22 33]\n",
            "[22 22 77]\n"
          ],
          "name": "stdout"
        }
      ]
    },
    {
      "cell_type": "code",
      "metadata": {
        "id": "l-PTQXUi6Cxp",
        "colab": {
          "base_uri": "https://localhost:8080/"
        },
        "outputId": "725f1862-860f-4601-de67-e588766b5a77"
      },
      "source": [
        "# Example 4 \n",
        "# Fancy Indexing allows us to select entire rows or columns out of order\n",
        "# as shown\n",
        "# \n",
        "\n",
        "# First creating an array or zeros\n",
        "arr2d = np.zeros((10,10))\n",
        "print(arr2d)\n",
        "\n",
        "# Length of array\n",
        "arr_length = arr2d.shape[1]\n",
        "print(arr_length)\n",
        "\n",
        "# creating the array \n",
        "for i in range(arr_length):\n",
        "    arr2d[i] = i\n",
        "    \n",
        "print(arr2d)\n",
        "\n",
        "# Now selecting the first, third and the fourth rows via fancy indexing\n",
        "arr2d[[0,2,3]]"
      ],
      "execution_count": 38,
      "outputs": [
        {
          "output_type": "stream",
          "text": [
            "[[0. 0. 0. 0. 0. 0. 0. 0. 0. 0.]\n",
            " [0. 0. 0. 0. 0. 0. 0. 0. 0. 0.]\n",
            " [0. 0. 0. 0. 0. 0. 0. 0. 0. 0.]\n",
            " [0. 0. 0. 0. 0. 0. 0. 0. 0. 0.]\n",
            " [0. 0. 0. 0. 0. 0. 0. 0. 0. 0.]\n",
            " [0. 0. 0. 0. 0. 0. 0. 0. 0. 0.]\n",
            " [0. 0. 0. 0. 0. 0. 0. 0. 0. 0.]\n",
            " [0. 0. 0. 0. 0. 0. 0. 0. 0. 0.]\n",
            " [0. 0. 0. 0. 0. 0. 0. 0. 0. 0.]\n",
            " [0. 0. 0. 0. 0. 0. 0. 0. 0. 0.]]\n",
            "10\n",
            "[[0. 0. 0. 0. 0. 0. 0. 0. 0. 0.]\n",
            " [1. 1. 1. 1. 1. 1. 1. 1. 1. 1.]\n",
            " [2. 2. 2. 2. 2. 2. 2. 2. 2. 2.]\n",
            " [3. 3. 3. 3. 3. 3. 3. 3. 3. 3.]\n",
            " [4. 4. 4. 4. 4. 4. 4. 4. 4. 4.]\n",
            " [5. 5. 5. 5. 5. 5. 5. 5. 5. 5.]\n",
            " [6. 6. 6. 6. 6. 6. 6. 6. 6. 6.]\n",
            " [7. 7. 7. 7. 7. 7. 7. 7. 7. 7.]\n",
            " [8. 8. 8. 8. 8. 8. 8. 8. 8. 8.]\n",
            " [9. 9. 9. 9. 9. 9. 9. 9. 9. 9.]]\n"
          ],
          "name": "stdout"
        },
        {
          "output_type": "execute_result",
          "data": {
            "text/plain": [
              "array([[0., 0., 0., 0., 0., 0., 0., 0., 0., 0.],\n",
              "       [2., 2., 2., 2., 2., 2., 2., 2., 2., 2.],\n",
              "       [3., 3., 3., 3., 3., 3., 3., 3., 3., 3.]])"
            ]
          },
          "metadata": {
            "tags": []
          },
          "execution_count": 38
        }
      ]
    },
    {
      "cell_type": "markdown",
      "metadata": {
        "id": "vtbzfkVu7A_i"
      },
      "source": [
        "### <font color=\"green\">1.3. Challenges</font>"
      ]
    },
    {
      "cell_type": "code",
      "metadata": {
        "id": "AoybsIQPODZD"
      },
      "source": [
        "# First, we create a 2D array to work with\n",
        "array_2d = np.array(([15,20,25],[15,20,25],[30,35,40]))\n"
      ],
      "execution_count": 39,
      "outputs": []
    },
    {
      "cell_type": "code",
      "metadata": {
        "id": "t2DLZeOs7Fej",
        "colab": {
          "base_uri": "https://localhost:8080/"
        },
        "outputId": "a31c2f1d-faac-4cd0-e675-b8eea7c03dea"
      },
      "source": [
        "# Challenge 1\n",
        "# Let's get the 3rd row of the array\n",
        "# \n",
        "array_2d[2]"
      ],
      "execution_count": 40,
      "outputs": [
        {
          "output_type": "execute_result",
          "data": {
            "text/plain": [
              "array([30, 35, 40])"
            ]
          },
          "metadata": {
            "tags": []
          },
          "execution_count": 40
        }
      ]
    },
    {
      "cell_type": "code",
      "metadata": {
        "id": "mrcHn88Q7GuP",
        "colab": {
          "base_uri": "https://localhost:8080/"
        },
        "outputId": "b663e65d-9113-4639-899d-783fa295e497"
      },
      "source": [
        "# Challenge 2\n",
        "# Let's get the individual element 35\n",
        "# using the format arr_2d[row][col] or arr_2d[row,col]\n",
        "#\n",
        "array_2d[2,1]"
      ],
      "execution_count": 41,
      "outputs": [
        {
          "output_type": "execute_result",
          "data": {
            "text/plain": [
              "35"
            ]
          },
          "metadata": {
            "tags": []
          },
          "execution_count": 41
        }
      ]
    },
    {
      "cell_type": "code",
      "metadata": {
        "id": "2Q_POLIs7IKI",
        "colab": {
          "base_uri": "https://localhost:8080/"
        },
        "outputId": "9f4c49d4-c1b3-4b13-e869-3800df19d73e"
      },
      "source": [
        "# Challenge 3\n",
        "# Let's slice the array (2,2) from top right corner\n",
        "# \n",
        "array_2d[[0,1]][:,1:]"
      ],
      "execution_count": 47,
      "outputs": [
        {
          "output_type": "execute_result",
          "data": {
            "text/plain": [
              "array([[20, 25],\n",
              "       [20, 25]])"
            ]
          },
          "metadata": {
            "tags": []
          },
          "execution_count": 47
        }
      ]
    },
    {
      "cell_type": "code",
      "metadata": {
        "id": "dumxoNxX7JKO",
        "colab": {
          "base_uri": "https://localhost:8080/"
        },
        "outputId": "347578ff-16ab-41d5-efad-290b81972703"
      },
      "source": [
        "# Challenge 4\n",
        "# Let's create a random 6 x 4 matrix then select the 3rd and 4th rows\n",
        "#\n",
        "np.random.rand(6,4)[[2,3]]"
      ],
      "execution_count": 49,
      "outputs": [
        {
          "output_type": "execute_result",
          "data": {
            "text/plain": [
              "array([[0.62293868, 0.11499616, 0.23974652, 0.14484997],\n",
              "       [0.31047301, 0.59701873, 0.90158975, 0.27997663]])"
            ]
          },
          "metadata": {
            "tags": []
          },
          "execution_count": 49
        }
      ]
    },
    {
      "cell_type": "markdown",
      "metadata": {
        "id": "7HM2oS-c6Fyz"
      },
      "source": [
        "## 1.4 Conditional Selection"
      ]
    },
    {
      "cell_type": "code",
      "metadata": {
        "id": "X02c9mGxaRdu",
        "colab": {
          "base_uri": "https://localhost:8080/"
        },
        "outputId": "3f15e418-2f51-4dbc-a751-0864a1c89bcb"
      },
      "source": [
        "# We can use conditions to check for whether elements in a certain range satisfy a condition.\n",
        "# Let's first creating an array. Do you remember what the arrange function does?\n",
        "#\n",
        "conditional_arr = np.arange(1,11)\n",
        "print(conditional_arr)"
      ],
      "execution_count": 50,
      "outputs": [
        {
          "output_type": "stream",
          "text": [
            "[ 1  2  3  4  5  6  7  8  9 10]\n"
          ],
          "name": "stdout"
        }
      ]
    },
    {
      "cell_type": "code",
      "metadata": {
        "id": "ekQ-AjCS6Lf1",
        "colab": {
          "base_uri": "https://localhost:8080/"
        },
        "outputId": "a98c8431-497a-4ad0-e63d-7d12cd06ee33"
      },
      "source": [
        "# Example 1  \n",
        "# What do we do here?\n",
        "#\n",
        "conditional_arr > 3"
      ],
      "execution_count": 51,
      "outputs": [
        {
          "output_type": "execute_result",
          "data": {
            "text/plain": [
              "array([False, False, False,  True,  True,  True,  True,  True,  True,\n",
              "        True])"
            ]
          },
          "metadata": {
            "tags": []
          },
          "execution_count": 51
        }
      ]
    },
    {
      "cell_type": "code",
      "metadata": {
        "id": "_CMv_cG36P8s",
        "colab": {
          "base_uri": "https://localhost:8080/"
        },
        "outputId": "1784e45c-74b3-4355-fa03-e7fc457c0d50"
      },
      "source": [
        "# Example 2\n",
        "# What happens here?\n",
        "#\n",
        "bool_arr = conditional_arr > 3\n",
        "print(bool_arr)\n",
        "\n",
        "print(conditional_arr[bool_arr])"
      ],
      "execution_count": 52,
      "outputs": [
        {
          "output_type": "stream",
          "text": [
            "[False False False  True  True  True  True  True  True  True]\n",
            "[ 4  5  6  7  8  9 10]\n"
          ],
          "name": "stdout"
        }
      ]
    },
    {
      "cell_type": "code",
      "metadata": {
        "id": "ZmMJyzcM6X8d",
        "colab": {
          "base_uri": "https://localhost:8080/"
        },
        "outputId": "716a23bf-e140-4256-e8a1-e55bfca1b82e"
      },
      "source": [
        "# Example 3\n",
        "# Finally, let's select those values in our array that satisfy our condition\n",
        "# \n",
        "print(conditional_arr[conditional_arr > 4])"
      ],
      "execution_count": 53,
      "outputs": [
        {
          "output_type": "stream",
          "text": [
            "[ 5  6  7  8  9 10]\n"
          ],
          "name": "stdout"
        }
      ]
    },
    {
      "cell_type": "markdown",
      "metadata": {
        "id": "FXNTaawR7Lly"
      },
      "source": [
        "### <font color=\"green\">1.4 Challenges</font>"
      ]
    },
    {
      "cell_type": "code",
      "metadata": {
        "id": "JvOfEoCQdPW3"
      },
      "source": [
        "# Creating the array to be used below\n",
        "#\n",
        "x = np.array([[0, 1, 2], [3, 4, 5], [6, 7, 8]])"
      ],
      "execution_count": 54,
      "outputs": []
    },
    {
      "cell_type": "code",
      "metadata": {
        "id": "X8wmyySf7TRt",
        "colab": {
          "base_uri": "https://localhost:8080/"
        },
        "outputId": "1482e25f-b684-4e6f-84a5-77d8e7df61bd"
      },
      "source": [
        "# Challenge 1\n",
        "# Get the 2nd row using conditional selection\n",
        "#\n",
        "x[(x>=3) & (x<=5)]"
      ],
      "execution_count": 79,
      "outputs": [
        {
          "output_type": "execute_result",
          "data": {
            "text/plain": [
              "array([3, 4, 5])"
            ]
          },
          "metadata": {
            "tags": []
          },
          "execution_count": 79
        }
      ]
    },
    {
      "cell_type": "code",
      "metadata": {
        "id": "h3uZ6qls7UMq",
        "colab": {
          "base_uri": "https://localhost:8080/"
        },
        "outputId": "17981470-8840-44d0-e7a0-9d3fb5fd3e4d"
      },
      "source": [
        "# Challenge 2\n",
        "# Which elements are greater than two?\n",
        "#\n",
        "x[x>2]"
      ],
      "execution_count": 80,
      "outputs": [
        {
          "output_type": "execute_result",
          "data": {
            "text/plain": [
              "array([3, 4, 5, 6, 7, 8])"
            ]
          },
          "metadata": {
            "tags": []
          },
          "execution_count": 80
        }
      ]
    },
    {
      "cell_type": "code",
      "metadata": {
        "id": "yKfmU0xF7U-V",
        "colab": {
          "base_uri": "https://localhost:8080/"
        },
        "outputId": "0cb4b660-1982-4d97-a929-3b5c3d2ea846"
      },
      "source": [
        "# Challenge 3\n",
        "# Get the array [7, 8] from the x array\n",
        "# \n",
        "x[(x>=7) & (x<=8)]"
      ],
      "execution_count": 81,
      "outputs": [
        {
          "output_type": "execute_result",
          "data": {
            "text/plain": [
              "array([7, 8])"
            ]
          },
          "metadata": {
            "tags": []
          },
          "execution_count": 81
        }
      ]
    },
    {
      "cell_type": "markdown",
      "metadata": {
        "id": "5mWusWpH6eff"
      },
      "source": [
        "## 1.5 Operations"
      ]
    },
    {
      "cell_type": "code",
      "metadata": {
        "id": "JIDxVUI0nVEY"
      },
      "source": [
        "# Creating the array that we will use below:\n",
        "# \n",
        "a = np.arange(0,5)"
      ],
      "execution_count": 63,
      "outputs": []
    },
    {
      "cell_type": "code",
      "metadata": {
        "id": "YRtb1N4i6hbE",
        "colab": {
          "base_uri": "https://localhost:8080/"
        },
        "outputId": "e84b2b9d-5af4-41d8-f3d6-fe32139e86dd"
      },
      "source": [
        "# Example 1\n",
        "# Arithmetic Operations\n",
        "# \n",
        "addition_arr = a + a\n",
        "print(addition_arr)\n",
        "\n",
        "subtration_arr = a - a\n",
        "print(addition_arr)"
      ],
      "execution_count": 64,
      "outputs": [
        {
          "output_type": "stream",
          "text": [
            "[0 2 4 6 8]\n",
            "[0 2 4 6 8]\n"
          ],
          "name": "stdout"
        }
      ]
    },
    {
      "cell_type": "code",
      "metadata": {
        "id": "33NeFWBs6l13",
        "colab": {
          "base_uri": "https://localhost:8080/"
        },
        "outputId": "683ec855-34c3-453b-87f9-e23d370ea7bf"
      },
      "source": [
        "# Example 2\n",
        "# Universal Array Functions\n",
        "# \n",
        "\n",
        "# square root\n",
        "sqr_arr = np.sqrt(a)\n",
        "print(sqr_arr)\n",
        "\n",
        "# exponential\n",
        "exp_arr = np.exp(a)\n",
        "print(exp_arr)"
      ],
      "execution_count": 65,
      "outputs": [
        {
          "output_type": "stream",
          "text": [
            "[0.         1.         1.41421356 1.73205081 2.        ]\n",
            "[ 1.          2.71828183  7.3890561  20.08553692 54.59815003]\n"
          ],
          "name": "stdout"
        }
      ]
    },
    {
      "cell_type": "markdown",
      "metadata": {
        "id": "RMVtc9Bs7bb6"
      },
      "source": [
        "### <font color=\"green\">1.5 Challenges</font>"
      ]
    },
    {
      "cell_type": "code",
      "metadata": {
        "id": "m8pWm82gkHqk",
        "colab": {
          "base_uri": "https://localhost:8080/"
        },
        "outputId": "cafdaced-aaa1-459b-826e-57646126971d"
      },
      "source": [
        "# Challenge 1\n",
        "# Raise the a array created above to the power of 2\n",
        "#\n",
        "np.power(a,2)"
      ],
      "execution_count": 68,
      "outputs": [
        {
          "output_type": "execute_result",
          "data": {
            "text/plain": [
              "array([ 0,  1,  4,  9, 16])"
            ]
          },
          "metadata": {
            "tags": []
          },
          "execution_count": 68
        }
      ]
    },
    {
      "cell_type": "code",
      "metadata": {
        "id": "y1CxcuFj7ehe",
        "colab": {
          "base_uri": "https://localhost:8080/"
        },
        "outputId": "59536c0c-458f-419d-9341-14ecf04aea7d"
      },
      "source": [
        "# Challenge 2\n",
        "# Find the log of a using log(), \n",
        "# the Universal Array Functions\n",
        "#\n",
        "np.log(a)"
      ],
      "execution_count": 69,
      "outputs": [
        {
          "output_type": "stream",
          "text": [
            "/usr/local/lib/python3.7/dist-packages/ipykernel_launcher.py:5: RuntimeWarning: divide by zero encountered in log\n",
            "  \"\"\"\n"
          ],
          "name": "stderr"
        },
        {
          "output_type": "execute_result",
          "data": {
            "text/plain": [
              "array([      -inf, 0.        , 0.69314718, 1.09861229, 1.38629436])"
            ]
          },
          "metadata": {
            "tags": []
          },
          "execution_count": 69
        }
      ]
    },
    {
      "cell_type": "code",
      "metadata": {
        "id": "QB-54zeYjWOa"
      },
      "source": [
        "# Challenge 3\n",
        "# This of a dataset then determine where you can use the \n",
        "# numpy concepts that you learnt in this session?\n",
        "# Then explain them to your peer.\n",
        "The numpy concepts can be used to transform datasets"
      ],
      "execution_count": null,
      "outputs": []
    }
  ]
}